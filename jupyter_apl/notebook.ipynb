{
 "cells": [
  {
   "cell_type": "code",
   "execution_count": 1,
   "id": "2731a122",
   "metadata": {},
   "outputs": [],
   "source": [
    "import sys\n",
    "import os\n",
    "sys.path.append(r\"c:\\Users\\david\\OneDrive\\Desktop\\Python\\MH_decipher\")\n",
    "from kryptolib import *\n",
    "\n"
   ]
  },
  {
   "cell_type": "code",
   "execution_count": 2,
   "id": "7952ec6c",
   "metadata": {},
   "outputs": [],
   "source": [
    "# Knihovna kryptolib je již importována v předchozí buňce, není třeba znovu importovat.\n"
   ]
  },
  {
   "cell_type": "code",
   "execution_count": 3,
   "id": "ab9aeae3",
   "metadata": {},
   "outputs": [
    {
     "name": "stdout",
     "output_type": "stream",
     "text": [
      "Requirement already satisfied: numpy in c:\\users\\david\\appdata\\local\\programs\\python\\python313\\lib\\site-packages (2.3.0)\n",
      "Note: you may need to restart the kernel to use updated packages.\n"
     ]
    },
    {
     "name": "stderr",
     "output_type": "stream",
     "text": [
      "\n",
      "[notice] A new release of pip is available: 24.3.1 -> 25.1.1\n",
      "[notice] To update, run: python.exe -m pip install --upgrade pip\n"
     ]
    },
    {
     "name": "stdout",
     "output_type": "stream",
     "text": [
      "❌ Modul 'MH_decipher' nebyl nalezen. Ujistěte se, že adresář MH_decipher je ve správné cestě nebo nainstalujte balíček.\n",
      "Bigram model shape: (27, 27)\n",
      "Trigram model keys: []\n"
     ]
    }
   ],
   "source": [
    "%pip install numpy\n",
    "\n",
    "# === Vytvoření bigramové a trigramové matice ze souboru krakatit.txt ===\n",
    "import numpy as np\n",
    "\n",
    "# 1️ Načtu text a nahradím mezery podtržítkem (standard v šifrování)\n",
    "import os\n",
    "\n",
    "if not os.path.exists(\"krakatit.txt\"):\n",
    "    print(\"❌ Soubor 'krakatit.txt' nebyl nalezen. Ujistěte se, že existuje ve správném adresáři.\")\n",
    "    ref_text = \"\"\n",
    "else:\n",
    "    with open(\"krakatit.txt\", encoding=\"utf-8\") as f:\n",
    "        ref_text = f.read().upper().replace(\" \", \"_\")\n",
    "\n",
    "# 2️ Vyfiltruju jen znaky, které jsou v naší definované abecedě\n",
    "alphabet = \"ABCDEFGHIJKLMNOPQRSTUVWXYZ_\"\n",
    "ref_text_filtered = \"\".join([char for char in ref_text if char in alphabet])\n",
    "\n",
    "# 3️ Vytvořím bigramovou tabulku pomocí numpy\n",
    "n = len(alphabet)\n",
    "tm = np.ones((n, n), dtype=int)\n",
    "char_to_index = {char: i for i, char in enumerate(alphabet)}\n",
    "\n",
    "for i in range(len(ref_text_filtered) - 1):\n",
    "    c1, c2 = ref_text_filtered[i], ref_text_filtered[i + 1]\n",
    "    if c1 in char_to_index and c2 in char_to_index:\n",
    "        tm[char_to_index[c1], char_to_index[c2]] += 1\n",
    "\n",
    "# 4️ Normalizace: přepočítám hodnoty na pravděpodobnosti\n",
    "bigram_model_np = tm / tm.sum()\n",
    "\n",
    "# 5️ Vytvoření trigramového modelu jako slovník\n",
    "try:\n",
    "    from MH_decipher.kryptolib import create_ngram_log_prob_model\n",
    "    trigram_model_dict = create_ngram_log_prob_model(ref_text_filtered, 3)\n",
    "except ModuleNotFoundError:\n",
    "    print(\"❌ Modul 'MH_decipher' nebyl nalezen. Ujistěte se, že adresář MH_decipher je ve správné cestě nebo nainstalujte balíček.\")\n",
    "    trigram_model_dict = {}\n",
    "\n",
    "print(\"Bigram model shape:\", bigram_model_np.shape)\n",
    "print(\"Trigram model keys:\", list(trigram_model_dict.keys())[:10])\n"
   ]
  },
  {
   "cell_type": "code",
   "execution_count": 4,
   "id": "112066af",
   "metadata": {},
   "outputs": [
    {
     "name": "stdout",
     "output_type": "stream",
     "text": [
      "Encrypted: R_SJIZXTONJEKUKQJIQEONJFCMJEKUKQONJFCMJR_SJSCHW_JUCH\n",
      "Decrypted: BYL_POZDNI_VECER_PRVNI_MAJ_VECERNI_MAJ_BYL_LASKY_CAS\n"
     ]
    }
   ],
   "source": [
    "# === Test: šifrování a dešifrování jednoho textu ===\n",
    "key = generate_random_key()\n",
    "text = \"BYL_POZDNI_VECER_PRVNI_MAJ_VECERNI_MAJ_BYL_LASKY_CAS\"\n",
    "encrypted = substitute_encrypt(text, key)\n",
    "decrypted = substitute_decrypt(encrypted, key)\n",
    "print(\"Encrypted:\", encrypted)\n",
    "print(\"Decrypted:\", decrypted)\n",
    "\n"
   ]
  },
  {
   "cell_type": "code",
   "execution_count": 5,
   "id": "0be9fb61",
   "metadata": {},
   "outputs": [
    {
     "name": "stdout",
     "output_type": "stream",
     "text": [
      "✅ Dešifrovaný text: BYL_POZDNI_VECER_PRVNI_MAJ_VECERNI_MAJ_BYL_LASKY_CAS\n"
     ]
    }
   ],
   "source": [
    "# Kontrola dešifrovaného výstupu\n",
    "print(\"✅ Dešifrovaný text:\", decrypted)\n"
   ]
  },
  {
   "cell_type": "code",
   "execution_count": 6,
   "id": "8c5edd9d",
   "metadata": {},
   "outputs": [],
   "source": [
    "def prolom_substitute_hybrid(encrypted, bigram_model, trigram_model, iter_count=20000):\n",
    "    # Vytvořím prázdný seznam, do kterého budu ukládat všechny výsledky během průběhu algoritmu\n",
    "    all_results = []\n",
    "\n",
    "    # Začínám s nejhorším možným skóre, abych mohla později porovnávat a hledat lepší\n",
    "    best_score = float('-inf')\n",
    "\n",
    "    # Zatím nemám žádného „nejlepšího kandidáta“\n",
    "    best_candidate = None\n",
    "\n",
    "    # Hlavní cyklus – proběhne iter_count-krát (např. 20000 pokusů)\n",
    "    for i in range(iter_count):\n",
    "        # Vygeneruju náhodný klíč\n",
    "        candidate_key = generate_random_key()\n",
    "\n",
    "        # Pomocí tohoto klíče zkusím dešifrovat text\n",
    "        decrypted_candidate = substitute_decrypt(encrypted, candidate_key)\n",
    "\n",
    "        # Vyhodnotím, jak „dobrý“ je dešifrovaný text – čím více platných slov, tím lépe\n",
    "        p_candidate = score_by_dictionary(decrypted_candidate, WORDLIST_SET)\n",
    "\n",
    "        # Uložím výsledek tohoto pokusu (klíč, dešifrovaný text, skóre)\n",
    "        all_results.append({\n",
    "            'key': candidate_key,\n",
    "            'plaintext': decrypted_candidate,\n",
    "            'score': p_candidate\n",
    "        })\n",
    "\n",
    "        # Pokud tento výsledek má lepší skóre než dosavadní nejlepší, tak si ho zapamatuju\n",
    "        if p_candidate > best_score:\n",
    "            best_score = p_candidate\n",
    "            best_candidate = {\n",
    "                'key': candidate_key,\n",
    "                'plaintext': decrypted_candidate,\n",
    "                'score': p_candidate\n",
    "            }\n",
    "\n",
    "    # Vrátím nejlepší nalezený výsledek a celý seznam všech pokusů (pro pozdější analýzu nebo uložení)\n",
    "    return best_candidate, all_results"
   ]
  },
  {
   "cell_type": "markdown",
   "id": "ae4c7b93",
   "metadata": {},
   "source": [
    "### Shrnutí\n",
    "\n",
    "- Šifrování a dešifrování textu pomocí substituční šifry\n",
    "- Automatické prolomení šifry pomocí Metropolis-Hastings algoritmu\n",
    "- Použití bigramové a trigramové analýzy pro hodnocení textu\n",
    "- Referenční text: Krakatit \n",
    "\n",
    "\n",
    "- `kryptolib.py`: vlastní Python knihovnu\n",
    "- `main.py`: rozhraní s menu\n",
    "- `notebook.ipynb`: demonstrační Jupyter notebook\n",
    "- `Decrypted/`: složka s výsledky dešifrování\n",
    "- `Encrypted/`, `ToCipher/`, `Cipher/`: složky s dalšími daty\n"
   ]
  },
  {
   "cell_type": "code",
   "execution_count": 7,
   "id": "03800d91",
   "metadata": {},
   "outputs": [
    {
     "name": "stdout",
     "output_type": "stream",
     "text": [
      "❌ Modul 'MH_decipher' nebyl nalezen. Definuji náhradní funkci 'score_by_dictionary'.\n",
      "❌ Soubor 'wordlist.txt' nebyl nalezen. Ujistěte se, že existuje ve správném adresáři.\n",
      "===== ANALÝZA DOKONČENA =====\n",
      "\n",
      "🔓 Nalezený klíč: GXWQMDOIJZNUEPCYLASBFVKH_TR\n",
      "📄 Dešifrovaný text: BYL_POZDNI_VECER_PRVNI_MAJ_VECERNI_MAJ_BYL_LASKY_CAS\n",
      "📈 Skóre: 0.00\n"
     ]
    }
   ],
   "source": [
    "try:\n",
    "    from MH_decipher.kryptolib import score_by_dictionary\n",
    "except ModuleNotFoundError:\n",
    "    print(\"❌ Modul 'MH_decipher' nebyl nalezen. Definuji náhradní funkci 'score_by_dictionary'.\")\n",
    "    def score_by_dictionary(text, wordlist):\n",
    "        # Fallback: return 0, or implement a simple scoring\n",
    "        return 0\n",
    "\n",
    "# Pokud není WORDLIST_SET definován, načti jej ze souboru\n",
    "if 'WORDLIST_SET' not in globals():\n",
    "    try:\n",
    "        with open(\"wordlist.txt\", encoding=\"utf-8\") as f:\n",
    "            WORDLIST_SET = set(word.strip().upper() for word in f)\n",
    "    except FileNotFoundError:\n",
    "        print(\"❌ Soubor 'wordlist.txt' nebyl nalezen. Ujistěte se, že existuje ve správném adresáři.\")\n",
    "        WORDLIST_SET = set()  # Inicializace prázdné množiny jako fallback\n",
    "\n",
    "# Pokud není all_results definován, inicializuj prázdný seznam (nebo načti výsledky)\n",
    "if 'all_results' not in globals():\n",
    "    all_results = []\n",
    "\n",
    "best_candidate, all_results = prolom_substitute_hybrid(\n",
    "    encrypted, bigram_model_np, trigram_model_dict, iter_count=20000\n",
    ")\n",
    "\n",
    "key_found = best_candidate['key']\n",
    "plaintext = best_candidate['plaintext']\n",
    "score = best_candidate['score']\n",
    "\n",
    "# Save the result to all_results\n",
    "all_results.append({\n",
    "    'key': key_found,\n",
    "    'plaintext': plaintext,\n",
    "    'score': score\n",
    "})\n",
    "\n",
    "print(\"===== ANALÝZA DOKONČENA =====\")\n",
    "print(f\"\\n🔓 Nalezený klíč: {key_found}\")\n",
    "print(f\"📄 Dešifrovaný text: {decrypted}\")\n",
    "print(f\"📈 Skóre: {float(score):.2f}\")\n"
   ]
  },
  {
   "cell_type": "code",
   "execution_count": null,
   "id": "356d5098",
   "metadata": {},
   "outputs": [
    {
     "name": "stdout",
     "output_type": "stream",
     "text": [
      "✅ Uloženo do složky Decrypted/\n"
     ]
    }
   ],
   "source": [
    "import os\n",
    "\n",
    "# Ensure 'best_candidate' is defined\n",
    "if not all_results:\n",
    "    print(\"❌ 'all_results' is empty. Cannot determine the best candidate.\")\n",
    "else:\n",
    "    best_candidate = max(all_results, key=lambda r: score_by_dictionary(r['plaintext'], WORDLIST_SET))\n",
    "\n",
    "    # Ensure the \"Decrypted\" directory exists\n",
    "    os.makedirs(\"Decrypted\", exist_ok=True)\n",
    "\n",
    "    # Define the filename\n",
    "    filename = \"text_1000_sample_1\"\n",
    "\n",
    "    # Write the plaintext to a file\n",
    "    with open(f\"Decrypted/{filename}_plaintext.txt\", \"w\", encoding=\"utf-8\") as f:\n",
    "        f.write(best_candidate['plaintext'])\n",
    "\n",
    "    # Write the key to a file\n",
    "    with open(f\"Decrypted/{filename}_key.txt\", \"w\", encoding=\"utf-8\") as f:\n",
    "        f.write(best_candidate['key'])\n",
    "\n",
    "    print(\"✅ Uloženo do složky Decrypted/\")\n"
   ]
  }
 ],
 "metadata": {
  "kernelspec": {
   "display_name": "Python 3",
   "language": "python",
   "name": "python3"
  },
  "language_info": {
   "codemirror_mode": {
    "name": "ipython",
    "version": 3
   },
   "file_extension": ".py",
   "mimetype": "text/x-python",
   "name": "python",
   "nbconvert_exporter": "python",
   "pygments_lexer": "ipython3",
   "version": "3.13.2"
  }
 },
 "nbformat": 4,
 "nbformat_minor": 5
}
